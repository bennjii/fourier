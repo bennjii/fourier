{
 "cells": [
  {
   "cell_type": "code",
   "execution_count": 1,
   "metadata": {},
   "outputs": [],
   "source": [
    "import numpy as np\n",
    "import matplotlib.pyplot as plt\n",
    "import matplotlib\n",
    "\n",
    "def draw(x_axis,y_axis,label,color,x_label,y_label,title,lw):\n",
    "    plt.figure(figsize = (15,5))\n",
    "    plt.grid(alpha = 0.3)\n",
    "    plt.style.use('dark_background')\n",
    "    plt.plot(x_axis, y_axis, label=label, color=color,linewidth=lw)\n",
    "    plt.xlabel(x_label, fontsize = 20)\n",
    "    plt.ylabel(y_label, fontsize= 20)\n",
    "    plt.title(title,fontsize = 30)\n",
    "    plt.legend(loc='upper right')\n",
    "    plt.show()\n",
    "    return"
   ]
  },
  {
   "cell_type": "code",
   "execution_count": null,
   "metadata": {},
   "outputs": [],
   "source": [
    "ft          = np.fft.fft(noisy)/len(noisy)       \n",
    "tpCount     = len(noisy)\n",
    "values      = np.arange(int(tpCount/2))\n",
    "timePeriod  = tpCount/1000\n",
    "frequencies = values/timePeriod\n",
    "\n",
    "psd=2*abs(ft)\n",
    "plt.figure(figsize = (15,5))\n",
    "plt.title('Fr of Noisy', fontsize=30)\n",
    "plt.xlabel(\"Hz\", fontsize = 20)\n",
    "plt.ylabel(\"Amplitude\", fontsize= 20)\n",
    "plt.grid(alpha = 0.3)\n",
    "plt.xticks(np.arange(14))\n",
    "plt.style.use('dark_background')\n",
    "#plt.plot(frequencies[0:498],psd[0:498])\n",
    "markerline, stemlines, baseline=plt.stem(frequencies[0:14],psd[0:14])\n",
    "plt.setp(stemlines, 'linewidth', 2)\n",
    "plt.show()"
   ]
  }
 ],
 "metadata": {
  "interpreter": {
   "hash": "ff02499235bfa6be33a1beeb3df8ffd40f2a2146644d962a52299abf46f6c778"
  },
  "kernelspec": {
   "display_name": "Python 3.8.3 32-bit",
   "language": "python",
   "name": "python3"
  },
  "language_info": {
   "codemirror_mode": {
    "name": "ipython",
    "version": 3
   },
   "file_extension": ".py",
   "mimetype": "text/x-python",
   "name": "python",
   "nbconvert_exporter": "python",
   "pygments_lexer": "ipython3",
   "version": "3.8.3"
  },
  "orig_nbformat": 4
 },
 "nbformat": 4,
 "nbformat_minor": 2
}
