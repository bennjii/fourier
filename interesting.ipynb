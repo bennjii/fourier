{
 "cells": [
  {
   "cell_type": "code",
   "execution_count": null,
   "metadata": {},
   "outputs": [],
   "source": [
    "import numpy as np\n",
    "from scipy import signal\n",
    "import matplotlib.pyplot as plt\n",
    "\n",
    "plt.figure(figsize=[8, 12])\n",
    "\n",
    "n = 2**21\n",
    "fs = 887\n",
    "\n",
    "# example data\n",
    "# x = np.random.randn(n)\n",
    "# x += np.sin(np.cumsum(0.42 + np.random.randn(n) * 0.01)) * 5\n",
    "# x = signal.lfilter([1, 0.5], 2, x)\n",
    "\n",
    "x = FFT.flatten()\n",
    "\n",
    "plt.subplot(3, 2, 1)\n",
    "plt.semilogy(np.abs(np.fft.fft(x)[:n//2])**2 / n**2, label='FFT')\n",
    "plt.legend(loc='best')\n",
    "\n",
    "for i, nperseg in enumerate([128, 512, 8192, 65536, n]):\n",
    "    plt.subplot(3, 2, i+2)\n",
    "    f, psd = signal.welch(x, fs=fs, window='hamming', nperseg=nperseg, noverlap=0)\n",
    "    plt.semilogy(f, psd, label='nperseg={}'.format(nperseg))\n",
    "    plt.legend(loc='best')\n",
    "\n",
    "plt.show()"
   ]
  }
 ],
 "metadata": {
  "language_info": {
   "name": "python"
  },
  "orig_nbformat": 4
 },
 "nbformat": 4,
 "nbformat_minor": 2
}
